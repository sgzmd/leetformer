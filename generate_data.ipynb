{
 "cells": [
  {
   "cell_type": "markdown",
   "metadata": {},
   "source": [
    "Let's start with producing some training datasets"
   ]
  },
  {
   "cell_type": "code",
   "execution_count": 1,
   "metadata": {},
   "outputs": [
    {
     "name": "stdout",
     "output_type": "stream",
     "text": [
      "  Original LeetSpeak\n",
      "0      the       the\n",
      "1       of        of\n",
      "2      and       and\n",
      "3       to        to\n",
      "4        a         a\n"
     ]
    }
   ],
   "source": [
    "import pandas as pd\n",
    "import random\n",
    "\n",
    "# we may or may not substitute a letter with one of the following\n",
    "leet_dict = {\n",
    "    'a': ['a', '4', '@'],\n",
    "    'b': ['b', '8'],\n",
    "    'e': ['e', '3'],\n",
    "    'i': ['i', '1', '!'],\n",
    "    'o': ['o', '0'],\n",
    "    's': ['s', '$', '5'],\n",
    "    't': ['t', '7']\n",
    "}\n",
    "\n",
    "def to_leetspeak(word):\n",
    "    if len(word) < 4:\n",
    "        return word\n",
    "    return ''.join(random.choice(leet_dict.get(c, [c])) for c in word.lower())\n",
    "\n",
    "lines = [x.strip() for x in open('data/1000.txt', 'r').readlines()]\n",
    "\n",
    "leet_lines = [to_leetspeak(word) for word in lines]\n",
    "df = pd.DataFrame({'Original': lines, 'LeetSpeak': leet_lines})\n",
    "print(df.head())\n",
    "\n",
    "df.to_csv('data/1000_leetspeak.csv', index=False)"
   ]
  }
 ],
 "metadata": {
  "kernelspec": {
   "display_name": "venv",
   "language": "python",
   "name": "python3"
  },
  "language_info": {
   "codemirror_mode": {
    "name": "ipython",
    "version": 3
   },
   "file_extension": ".py",
   "mimetype": "text/x-python",
   "name": "python",
   "nbconvert_exporter": "python",
   "pygments_lexer": "ipython3",
   "version": "3.9.6"
  }
 },
 "nbformat": 4,
 "nbformat_minor": 2
}
